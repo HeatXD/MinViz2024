{
 "cells": [
  {
   "cell_type": "code",
   "execution_count": 1,
   "metadata": {},
   "outputs": [
    {
     "name": "stdout",
     "output_type": "stream",
     "text": [
      "  Algo   Distance  Seed  ElapsedTime  PointCount  CubicVolume  Iterations  \\\n",
      "0  ACO  60.152807    20        10043           5          125           1   \n",
      "1  ACO  55.513094    20        10043           5          125           1   \n",
      "2  NNH  55.513094    20         2750           5          125           1   \n",
      "3  ACO  32.941233    21           28           5          125           1   \n",
      "4  NNH  32.941233    21           34           5          125           1   \n",
      "\n",
      "   AOSPositions  \n",
      "0             1  \n",
      "1             2  \n",
      "2             1  \n",
      "3             1  \n",
      "4             1  \n"
     ]
    }
   ],
   "source": [
    "import pandas as pd\n",
    "\n",
    "df = pd.read_csv('../bin/Release/net8.0/BenchResults.csv')\n",
    "\n",
    "print(df.head())"
   ]
  },
  {
   "cell_type": "code",
   "execution_count": null,
   "metadata": {},
   "outputs": [],
   "source": [
    "import numpy as np\n",
    "\n",
    "stats_by_algo = df.groupby('Algo').agg({\n",
    "    'Distance': ['mean', 'std', 'min', 'max', 'count'],\n",
    "    'ElapsedTime': ['mean', 'std', 'min', 'max']\n",
    "}).round(4)\n",
    "\n",
    "# 2. Performance Metrics\n",
    "def calculate_performance_ratio(group):\n",
    "    return pd.Series({\n",
    "        'solution_quality': group['Distance'].min() / group['Distance'].mean(),\n",
    "        'time_efficiency': np.log10(group['ElapsedTime'].mean()),\n",
    "        'consistency': group['Distance'].std() / group['Distance'].mean()\n",
    "})\n",
    "    \n",
    "performance_metrics = df.groupby(['Algo', 'PointCount']).apply(calculate_performance_ratio)"
   ]
  }
 ],
 "metadata": {
  "kernelspec": {
   "display_name": "Python 3",
   "language": "python",
   "name": "python3"
  },
  "language_info": {
   "codemirror_mode": {
    "name": "ipython",
    "version": 3
   },
   "file_extension": ".py",
   "mimetype": "text/x-python",
   "name": "python",
   "nbconvert_exporter": "python",
   "pygments_lexer": "ipython3",
   "version": "3.13.0"
  }
 },
 "nbformat": 4,
 "nbformat_minor": 2
}
